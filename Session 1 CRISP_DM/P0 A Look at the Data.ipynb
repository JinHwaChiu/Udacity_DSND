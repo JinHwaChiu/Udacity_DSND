{
 "cells": [
  {
   "cell_type": "markdown",
   "metadata": {},
   "source": [
    "### A Look at the Data\n",
    "\n",
    "In order to get a better understanding of the data we will be looking at throughout this lesson, let's take a look at some of the characteristics of the dataset.\n",
    "\n",
    "First, let's read in the data and necessary libraries."
   ]
  },
  {
   "cell_type": "code",
   "execution_count": 1,
   "metadata": {},
   "outputs": [
    {
     "data": {
      "text/html": [
       "<div>\n",
       "<style scoped>\n",
       "    .dataframe tbody tr th:only-of-type {\n",
       "        vertical-align: middle;\n",
       "    }\n",
       "\n",
       "    .dataframe tbody tr th {\n",
       "        vertical-align: top;\n",
       "    }\n",
       "\n",
       "    .dataframe thead th {\n",
       "        text-align: right;\n",
       "    }\n",
       "</style>\n",
       "<table border=\"1\" class=\"dataframe\">\n",
       "  <thead>\n",
       "    <tr style=\"text-align: right;\">\n",
       "      <th></th>\n",
       "      <th>Respondent</th>\n",
       "      <th>Professional</th>\n",
       "      <th>ProgramHobby</th>\n",
       "      <th>Country</th>\n",
       "      <th>University</th>\n",
       "      <th>EmploymentStatus</th>\n",
       "      <th>FormalEducation</th>\n",
       "      <th>MajorUndergrad</th>\n",
       "      <th>HomeRemote</th>\n",
       "      <th>CompanySize</th>\n",
       "      <th>...</th>\n",
       "      <th>StackOverflowMakeMoney</th>\n",
       "      <th>Gender</th>\n",
       "      <th>HighestEducationParents</th>\n",
       "      <th>Race</th>\n",
       "      <th>SurveyLong</th>\n",
       "      <th>QuestionsInteresting</th>\n",
       "      <th>QuestionsConfusing</th>\n",
       "      <th>InterestedAnswers</th>\n",
       "      <th>Salary</th>\n",
       "      <th>ExpectedSalary</th>\n",
       "    </tr>\n",
       "  </thead>\n",
       "  <tbody>\n",
       "    <tr>\n",
       "      <th>0</th>\n",
       "      <td>1</td>\n",
       "      <td>Student</td>\n",
       "      <td>Yes, both</td>\n",
       "      <td>United States</td>\n",
       "      <td>No</td>\n",
       "      <td>Not employed, and not looking for work</td>\n",
       "      <td>Secondary school</td>\n",
       "      <td>NaN</td>\n",
       "      <td>NaN</td>\n",
       "      <td>NaN</td>\n",
       "      <td>...</td>\n",
       "      <td>Strongly disagree</td>\n",
       "      <td>Male</td>\n",
       "      <td>High school</td>\n",
       "      <td>White or of European descent</td>\n",
       "      <td>Strongly disagree</td>\n",
       "      <td>Strongly agree</td>\n",
       "      <td>Disagree</td>\n",
       "      <td>Strongly agree</td>\n",
       "      <td>NaN</td>\n",
       "      <td>NaN</td>\n",
       "    </tr>\n",
       "    <tr>\n",
       "      <th>1</th>\n",
       "      <td>2</td>\n",
       "      <td>Student</td>\n",
       "      <td>Yes, both</td>\n",
       "      <td>United Kingdom</td>\n",
       "      <td>Yes, full-time</td>\n",
       "      <td>Employed part-time</td>\n",
       "      <td>Some college/university study without earning ...</td>\n",
       "      <td>Computer science or software engineering</td>\n",
       "      <td>More than half, but not all, the time</td>\n",
       "      <td>20 to 99 employees</td>\n",
       "      <td>...</td>\n",
       "      <td>Strongly disagree</td>\n",
       "      <td>Male</td>\n",
       "      <td>A master's degree</td>\n",
       "      <td>White or of European descent</td>\n",
       "      <td>Somewhat agree</td>\n",
       "      <td>Somewhat agree</td>\n",
       "      <td>Disagree</td>\n",
       "      <td>Strongly agree</td>\n",
       "      <td>NaN</td>\n",
       "      <td>37500.0</td>\n",
       "    </tr>\n",
       "    <tr>\n",
       "      <th>2</th>\n",
       "      <td>3</td>\n",
       "      <td>Professional developer</td>\n",
       "      <td>Yes, both</td>\n",
       "      <td>United Kingdom</td>\n",
       "      <td>No</td>\n",
       "      <td>Employed full-time</td>\n",
       "      <td>Bachelor's degree</td>\n",
       "      <td>Computer science or software engineering</td>\n",
       "      <td>Less than half the time, but at least one day ...</td>\n",
       "      <td>10,000 or more employees</td>\n",
       "      <td>...</td>\n",
       "      <td>Disagree</td>\n",
       "      <td>Male</td>\n",
       "      <td>A professional degree</td>\n",
       "      <td>White or of European descent</td>\n",
       "      <td>Somewhat agree</td>\n",
       "      <td>Agree</td>\n",
       "      <td>Disagree</td>\n",
       "      <td>Agree</td>\n",
       "      <td>113750.0</td>\n",
       "      <td>NaN</td>\n",
       "    </tr>\n",
       "    <tr>\n",
       "      <th>3</th>\n",
       "      <td>4</td>\n",
       "      <td>Professional non-developer who sometimes write...</td>\n",
       "      <td>Yes, both</td>\n",
       "      <td>United States</td>\n",
       "      <td>No</td>\n",
       "      <td>Employed full-time</td>\n",
       "      <td>Doctoral degree</td>\n",
       "      <td>A non-computer-focused engineering discipline</td>\n",
       "      <td>Less than half the time, but at least one day ...</td>\n",
       "      <td>10,000 or more employees</td>\n",
       "      <td>...</td>\n",
       "      <td>Disagree</td>\n",
       "      <td>Male</td>\n",
       "      <td>A doctoral degree</td>\n",
       "      <td>White or of European descent</td>\n",
       "      <td>Agree</td>\n",
       "      <td>Agree</td>\n",
       "      <td>Somewhat agree</td>\n",
       "      <td>Strongly agree</td>\n",
       "      <td>NaN</td>\n",
       "      <td>NaN</td>\n",
       "    </tr>\n",
       "    <tr>\n",
       "      <th>4</th>\n",
       "      <td>5</td>\n",
       "      <td>Professional developer</td>\n",
       "      <td>Yes, I program as a hobby</td>\n",
       "      <td>Switzerland</td>\n",
       "      <td>No</td>\n",
       "      <td>Employed full-time</td>\n",
       "      <td>Master's degree</td>\n",
       "      <td>Computer science or software engineering</td>\n",
       "      <td>Never</td>\n",
       "      <td>10 to 19 employees</td>\n",
       "      <td>...</td>\n",
       "      <td>NaN</td>\n",
       "      <td>NaN</td>\n",
       "      <td>NaN</td>\n",
       "      <td>NaN</td>\n",
       "      <td>NaN</td>\n",
       "      <td>NaN</td>\n",
       "      <td>NaN</td>\n",
       "      <td>NaN</td>\n",
       "      <td>NaN</td>\n",
       "      <td>NaN</td>\n",
       "    </tr>\n",
       "  </tbody>\n",
       "</table>\n",
       "<p>5 rows × 154 columns</p>\n",
       "</div>"
      ],
      "text/plain": [
       "   Respondent                                       Professional  \\\n",
       "0           1                                            Student   \n",
       "1           2                                            Student   \n",
       "2           3                             Professional developer   \n",
       "3           4  Professional non-developer who sometimes write...   \n",
       "4           5                             Professional developer   \n",
       "\n",
       "                ProgramHobby         Country      University  \\\n",
       "0                  Yes, both   United States              No   \n",
       "1                  Yes, both  United Kingdom  Yes, full-time   \n",
       "2                  Yes, both  United Kingdom              No   \n",
       "3                  Yes, both   United States              No   \n",
       "4  Yes, I program as a hobby     Switzerland              No   \n",
       "\n",
       "                         EmploymentStatus  \\\n",
       "0  Not employed, and not looking for work   \n",
       "1                      Employed part-time   \n",
       "2                      Employed full-time   \n",
       "3                      Employed full-time   \n",
       "4                      Employed full-time   \n",
       "\n",
       "                                     FormalEducation  \\\n",
       "0                                   Secondary school   \n",
       "1  Some college/university study without earning ...   \n",
       "2                                  Bachelor's degree   \n",
       "3                                    Doctoral degree   \n",
       "4                                    Master's degree   \n",
       "\n",
       "                                  MajorUndergrad  \\\n",
       "0                                            NaN   \n",
       "1       Computer science or software engineering   \n",
       "2       Computer science or software engineering   \n",
       "3  A non-computer-focused engineering discipline   \n",
       "4       Computer science or software engineering   \n",
       "\n",
       "                                          HomeRemote  \\\n",
       "0                                                NaN   \n",
       "1              More than half, but not all, the time   \n",
       "2  Less than half the time, but at least one day ...   \n",
       "3  Less than half the time, but at least one day ...   \n",
       "4                                              Never   \n",
       "\n",
       "                CompanySize  ... StackOverflowMakeMoney Gender  \\\n",
       "0                       NaN  ...      Strongly disagree   Male   \n",
       "1        20 to 99 employees  ...      Strongly disagree   Male   \n",
       "2  10,000 or more employees  ...               Disagree   Male   \n",
       "3  10,000 or more employees  ...               Disagree   Male   \n",
       "4        10 to 19 employees  ...                    NaN    NaN   \n",
       "\n",
       "  HighestEducationParents                          Race         SurveyLong  \\\n",
       "0             High school  White or of European descent  Strongly disagree   \n",
       "1       A master's degree  White or of European descent     Somewhat agree   \n",
       "2   A professional degree  White or of European descent     Somewhat agree   \n",
       "3       A doctoral degree  White or of European descent              Agree   \n",
       "4                     NaN                           NaN                NaN   \n",
       "\n",
       "  QuestionsInteresting QuestionsConfusing InterestedAnswers    Salary  \\\n",
       "0       Strongly agree           Disagree    Strongly agree       NaN   \n",
       "1       Somewhat agree           Disagree    Strongly agree       NaN   \n",
       "2                Agree           Disagree             Agree  113750.0   \n",
       "3                Agree     Somewhat agree    Strongly agree       NaN   \n",
       "4                  NaN                NaN               NaN       NaN   \n",
       "\n",
       "   ExpectedSalary  \n",
       "0             NaN  \n",
       "1         37500.0  \n",
       "2             NaN  \n",
       "3             NaN  \n",
       "4             NaN  \n",
       "\n",
       "[5 rows x 154 columns]"
      ]
     },
     "execution_count": 1,
     "metadata": {},
     "output_type": "execute_result"
    }
   ],
   "source": [
    "import numpy as np\n",
    "import pandas as pd\n",
    "import matplotlib.pyplot as plt\n",
    "import ALookAtTheData as t\n",
    "from IPython import display\n",
    "%matplotlib inline\n",
    "\n",
    "df = pd.read_csv('./survey_results_public.csv')\n",
    "df.head()"
   ]
  },
  {
   "cell_type": "markdown",
   "metadata": {},
   "source": [
    "As you work through the notebook(s) in this and future parts of this program, you will see some consistency in how to test your solutions to assure they match what we achieved!  In every environment, there is a solution file and a test file.  There will be checks for each solution built into each notebook, but if you get stuck, you may also open the solution notebook to see how we find any of the solutions.  Let's take a look at an example.\n",
    "\n",
    "### Question 1\n",
    "\n",
    "**1.** Provide the number of rows and columns in this dataset."
   ]
  },
  {
   "cell_type": "code",
   "execution_count": 2,
   "metadata": {},
   "outputs": [
    {
     "name": "stdout",
     "output_type": "stream",
     "text": [
      "Nice job there are 19102 rows in the dataset!\n",
      "Nice job there are 154 columns in the dataset!\n"
     ]
    }
   ],
   "source": [
    "# We solved this one for you by providing the number of rows and columns:\n",
    "# You can see how we are prompted that we solved for the number of rows and cols correctly!\n",
    "\n",
    "num_rows = df.shape[0] #Provide the number of rows in the dataset\n",
    "num_cols = df.shape[1] #Provide the number of columns in the dataset\n",
    "\n",
    "t.check_rows_cols(num_rows, num_cols) "
   ]
  },
  {
   "cell_type": "code",
   "execution_count": 3,
   "metadata": {},
   "outputs": [
    {
     "name": "stdout",
     "output_type": "stream",
     "text": [
      "That doesn't look like what we were expecting for the number of rows.\n",
      "That doesn't look like what we were expecting for the number of columns.\n"
     ]
    }
   ],
   "source": [
    "# If we made a mistake - a different prompt will appear\n",
    "\n",
    "flipped_num_rows = df.shape[1] #Provide the number of rows in the dataset\n",
    "flipped_num_cols = df.shape[0] #Provide the number of columns in the dataset\n",
    "\n",
    "t.check_rows_cols(flipped_num_rows, flipped_num_cols) "
   ]
  },
  {
   "cell_type": "code",
   "execution_count": 4,
   "metadata": {},
   "outputs": [
    {
     "data": {
      "text/plain": [
       "\u001b[1;31mSignature:\u001b[0m \u001b[0mt\u001b[0m\u001b[1;33m.\u001b[0m\u001b[0mcheck_rows_cols\u001b[0m\u001b[1;33m(\u001b[0m\u001b[0mnum_rows\u001b[0m\u001b[1;33m,\u001b[0m \u001b[0mnum_cols\u001b[0m\u001b[1;33m)\u001b[0m\u001b[1;33m\u001b[0m\u001b[1;33m\u001b[0m\u001b[0m\n",
       "\u001b[1;31mDocstring:\u001b[0m\n",
       "INPUT:\n",
       "num_rows - int the number of rows in df\n",
       "num_cols - int the number of cols in df\n",
       "\n",
       "This function will print a statement related to whether or not you provided the correct number of rows and columns of the dataset.\n",
       "\u001b[1;31mFile:\u001b[0m      c:\\users\\a0921\\downloads\\crisp_dm\\alookatthedata.py\n",
       "\u001b[1;31mType:\u001b[0m      function\n"
      ]
     },
     "metadata": {},
     "output_type": "display_data"
    }
   ],
   "source": [
    "# If you want to know more about what the test function is expecting, \n",
    "# you can read the documentation the same way as any other funtion\n",
    "\n",
    "t.check_rows_cols?"
   ]
  },
  {
   "cell_type": "markdown",
   "metadata": {},
   "source": [
    "Now that you are familiar with how to test your code - let's have you answer your first question:\n",
    "\n",
    "### Question 2\n",
    "\n",
    "**2.** Which columns had no missing values? Provide a set of column names that have no missing values."
   ]
  },
  {
   "cell_type": "code",
   "execution_count": 5,
   "metadata": {},
   "outputs": [
    {
     "name": "stdout",
     "output_type": "stream",
     "text": [
      "Respondent have no missing values\n",
      "Professional have no missing values\n",
      "ProgramHobby have no missing values\n",
      "Country have no missing values\n",
      "University have no missing values\n",
      "EmploymentStatus have no missing values\n",
      "FormalEducation have no missing values\n",
      "MajorUndergrad have 3203 missing values\n",
      "HomeRemote have 2631 missing values\n",
      "CompanySize have 4449 missing values\n",
      "CompanyType have 4493 missing values\n",
      "YearsProgram have 97 missing values\n",
      "YearsCodedJob have 3711 missing values\n",
      "YearsCodedJobPast have 18753 missing values\n",
      "DeveloperType have 5330 missing values\n",
      "WebDeveloperType have 14816 missing values\n",
      "MobileDeveloperType have 18546 missing values\n",
      "NonDeveloperType have 17414 missing values\n",
      "CareerSatisfaction have 3000 missing values\n",
      "JobSatisfaction have 3849 missing values\n",
      "ExCoderReturn have 18767 missing values\n",
      "ExCoderNotForMe have 18770 missing values\n",
      "ExCoderBalance have 18767 missing values\n",
      "ExCoder10Years have 18766 missing values\n",
      "ExCoderBelonged have 18767 missing values\n",
      "ExCoderSkills have 18766 missing values\n",
      "ExCoderWillNotCode have 18770 missing values\n",
      "ExCoderActive have 18767 missing values\n",
      "PronounceGIF have 162 missing values\n",
      "ProblemSolving have 6882 missing values\n",
      "BuildingThings have 6901 missing values\n",
      "LearningNewTech have 6886 missing values\n",
      "BoringDetails have 6912 missing values\n",
      "JobSecurity have 6904 missing values\n",
      "DiversityImportant have 7023 missing values\n",
      "AnnoyingUI have 6962 missing values\n",
      "FriendsDevelopers have 6959 missing values\n",
      "RightWrongWay have 6990 missing values\n",
      "UnderstandComputers have 6967 missing values\n",
      "SeriousWork have 6970 missing values\n",
      "InvestTimeTools have 7043 missing values\n",
      "WorkPayCare have 7015 missing values\n",
      "KinshipDevelopers have 7122 missing values\n",
      "ChallengeMyself have 7013 missing values\n",
      "CompetePeers have 7068 missing values\n",
      "ChangeWorld have 7025 missing values\n",
      "JobSeekingStatus have 6250 missing values\n",
      "HoursPerWeek have 11381 missing values\n",
      "LastNewJob have 6524 missing values\n",
      "AssessJobIndustry have 10701 missing values\n",
      "AssessJobRole have 10699 missing values\n",
      "AssessJobExp have 10704 missing values\n",
      "AssessJobDept have 10712 missing values\n",
      "AssessJobTech have 10682 missing values\n",
      "AssessJobProjects have 10690 missing values\n",
      "AssessJobCompensation have 10695 missing values\n",
      "AssessJobOffice have 10766 missing values\n",
      "AssessJobCommute have 10771 missing values\n",
      "AssessJobRemote have 10751 missing values\n",
      "AssessJobLeaders have 10772 missing values\n",
      "AssessJobProfDevel have 10761 missing values\n",
      "AssessJobDiversity have 10778 missing values\n",
      "AssessJobProduct have 10768 missing values\n",
      "AssessJobFinances have 10751 missing values\n",
      "ImportantBenefits have 7532 missing values\n",
      "ClickyKeys have 3744 missing values\n",
      "JobProfile have 9912 missing values\n",
      "ResumePrompted have 10398 missing values\n",
      "LearnedHiring have 9919 missing values\n",
      "ImportantHiringAlgorithms have 8212 missing values\n",
      "ImportantHiringTechExp have 8208 missing values\n",
      "ImportantHiringCommunication have 8223 missing values\n",
      "ImportantHiringOpenSource have 8238 missing values\n",
      "ImportantHiringPMExp have 8233 missing values\n",
      "ImportantHiringCompanies have 8251 missing values\n",
      "ImportantHiringTitles have 8243 missing values\n",
      "ImportantHiringEducation have 8219 missing values\n",
      "ImportantHiringRep have 8224 missing values\n",
      "ImportantHiringGettingThingsDone have 8253 missing values\n",
      "Currency have 11070 missing values\n",
      "Overpaid have 13918 missing values\n",
      "TabsSpaces have 4797 missing values\n",
      "EducationImportant have 10037 missing values\n",
      "EducationTypes have 7637 missing values\n",
      "SelfTaughtTypes have 8929 missing values\n",
      "TimeAfterBootcamp have 18220 missing values\n",
      "CousinEducation have 12196 missing values\n",
      "WorkStart have 5579 missing values\n",
      "HaveWorkedLanguage have 5576 missing values\n",
      "WantWorkLanguage have 6579 missing values\n",
      "HaveWorkedFramework have 11808 missing values\n",
      "WantWorkFramework have 10603 missing values\n",
      "HaveWorkedDatabase have 8310 missing values\n",
      "WantWorkDatabase have 9943 missing values\n",
      "HaveWorkedPlatform have 8522 missing values\n",
      "WantWorkPlatform have 8944 missing values\n",
      "IDE have 5905 missing values\n",
      "AuditoryEnvironment have 5651 missing values\n",
      "Methodology have 9515 missing values\n",
      "VersionControl have 7531 missing values\n",
      "CheckInCode have 7898 missing values\n",
      "ShipIt have 7893 missing values\n",
      "OtherPeoplesCode have 7900 missing values\n",
      "ProjectManagement have 7980 missing values\n",
      "EnjoyDebugging have 7844 missing values\n",
      "InTheZone have 8001 missing values\n",
      "DifficultCommunication have 7892 missing values\n",
      "CollaborateRemote have 7972 missing values\n",
      "MetricAssess have 9477 missing values\n",
      "EquipmentSatisfiedMonitors have 7972 missing values\n",
      "EquipmentSatisfiedCPU have 7975 missing values\n",
      "EquipmentSatisfiedRAM have 7969 missing values\n",
      "EquipmentSatisfiedStorage have 8002 missing values\n",
      "EquipmentSatisfiedRW have 7992 missing values\n",
      "InfluenceInternet have 7996 missing values\n",
      "InfluenceWorkstation have 10840 missing values\n",
      "InfluenceHardware have 10840 missing values\n",
      "InfluenceServers have 10863 missing values\n",
      "InfluenceTechStack have 10849 missing values\n",
      "InfluenceDeptTech have 10859 missing values\n",
      "InfluenceVizTools have 10858 missing values\n",
      "InfluenceDatabase have 10847 missing values\n",
      "InfluenceCloud have 10859 missing values\n",
      "InfluenceConsultants have 10873 missing values\n",
      "InfluenceRecruitment have 10858 missing values\n",
      "InfluenceCommunication have 10852 missing values\n",
      "StackOverflowDescribes have 5546 missing values\n",
      "StackOverflowSatisfaction have 5650 missing values\n",
      "StackOverflowDevices have 6156 missing values\n",
      "StackOverflowFoundAnswer have 6411 missing values\n",
      "StackOverflowCopiedCode have 6525 missing values\n",
      "StackOverflowJobListing have 6677 missing values\n",
      "StackOverflowCompanyPage have 6691 missing values\n",
      "StackOverflowJobSearch have 6695 missing values\n",
      "StackOverflowNewQuestion have 6630 missing values\n",
      "StackOverflowAnswer have 6657 missing values\n",
      "StackOverflowMetaChat have 6688 missing values\n",
      "StackOverflowAdsRelevant have 7575 missing values\n",
      "StackOverflowAdsDistracting have 7261 missing values\n",
      "StackOverflowModeration have 7766 missing values\n",
      "StackOverflowCommunity have 7038 missing values\n",
      "StackOverflowHelpful have 6560 missing values\n",
      "StackOverflowBetter have 6640 missing values\n",
      "StackOverflowWhatDo have 6717 missing values\n",
      "StackOverflowMakeMoney have 7434 missing values\n",
      "Gender have 6192 missing values\n",
      "HighestEducationParents have 6249 missing values\n",
      "Race have 6884 missing values\n",
      "SurveyLong have 6299 missing values\n",
      "QuestionsInteresting have 6366 missing values\n",
      "QuestionsConfusing have 6396 missing values\n",
      "InterestedAnswers have 6342 missing values\n",
      "Salary have 14093 missing values\n",
      "ExpectedSalary have 18284 missing values\n"
     ]
    }
   ],
   "source": [
    "no_nulls = list()\n",
    "nulls = dict()\n",
    "data_row = df.shape[0]\n",
    "for i in df.columns:\n",
    "    if df[i].isnull().values.any():\n",
    "        print(f'{i} have {df[i].isnull().sum()} missing values')\n",
    "        nulls[i] = df[i].isnull().sum()\n",
    "    else:\n",
    "        print(f'{i} have no missing values')\n",
    "        no_nulls.append(i)"
   ]
  },
  {
   "cell_type": "code",
   "execution_count": 6,
   "metadata": {},
   "outputs": [
    {
     "name": "stdout",
     "output_type": "stream",
     "text": [
      "Nice job that looks right!\n"
     ]
    },
    {
     "data": {
      "text/html": [
       "<img src=\"https://bit.ly/2K9X0gD\">"
      ],
      "text/plain": [
       "<IPython.core.display.HTML object>"
      ]
     },
     "execution_count": 6,
     "metadata": {},
     "output_type": "execute_result"
    }
   ],
   "source": [
    "no_nulls = set(no_nulls)#Provide a set of columns with 0 missing values.\n",
    "\n",
    "display.HTML(t.no_null_cols(no_nulls))"
   ]
  },
  {
   "cell_type": "markdown",
   "metadata": {},
   "source": [
    "### Question 3\n",
    "\n",
    "**3.** Which columns have the most missing values?  Provide a set of column names that have more than 75% of their values missing."
   ]
  },
  {
   "cell_type": "code",
   "execution_count": 7,
   "metadata": {},
   "outputs": [
    {
     "name": "stdout",
     "output_type": "stream",
     "text": [
      "YearsCodedJobPast\n",
      "WebDeveloperType\n",
      "MobileDeveloperType\n",
      "NonDeveloperType\n",
      "ExCoderReturn\n",
      "ExCoderNotForMe\n",
      "ExCoderBalance\n",
      "ExCoder10Years\n",
      "ExCoderBelonged\n",
      "ExCoderSkills\n",
      "ExCoderWillNotCode\n",
      "ExCoderActive\n",
      "TimeAfterBootcamp\n",
      "ExpectedSalary\n"
     ]
    }
   ],
   "source": [
    "nulls_75 = list()\n",
    "for i,j in nulls.items():\n",
    "    percentage = (j/data_row)*100\n",
    "    if percentage > 75:\n",
    "        print(i)\n",
    "        nulls_75.append(i)"
   ]
  },
  {
   "cell_type": "code",
   "execution_count": 8,
   "metadata": {},
   "outputs": [
    {
     "name": "stdout",
     "output_type": "stream",
     "text": [
      "Nice job that looks right!\n"
     ]
    }
   ],
   "source": [
    "most_missing_cols = set(nulls_75)#Provide a set of columns with more than 75% of the values missing\n",
    "\n",
    "t.most_missing_cols(most_missing_cols)"
   ]
  },
  {
   "cell_type": "markdown",
   "metadata": {},
   "source": [
    "### Question 4\n",
    "\n",
    "**4.** Provide a pandas series of the different **Professional** status values in the dataset along with the count of the number of individuals with each status.  Store this pandas series in **status_vals**.  If you are correct, you should see a bar chart of the proportion of individuals in each status."
   ]
  },
  {
   "cell_type": "code",
   "execution_count": 9,
   "metadata": {},
   "outputs": [
    {
     "data": {
      "image/png": "[encoded data removed]",
      "text/plain": [
       "<Figure size 432x288 with 1 Axes>"
      ]
     },
     "metadata": {
      "needs_background": "light"
     },
     "output_type": "display_data"
    }
   ],
   "source": [
    "status_vals = df.groupby(by='Professional').size()#Provide a pandas series of the counts for each Professional status\n",
    "\n",
    "# The below should be a bar chart of the proportion of individuals in each professional category if your status_vals\n",
    "# is set up correctly.\n",
    "\n",
    "(status_vals/df.shape[0]).plot(kind=\"bar\");\n",
    "plt.title(\"What kind of developer are you?\");"
   ]
  },
  {
   "cell_type": "markdown",
   "metadata": {},
   "source": [
    "### Question 5\n",
    "\n",
    "**5.** Provide a pandas series of the different **FormalEducation** status values in the dataset along with the count of how many individuals received that formal education.  Store this pandas series in **ed_vals**.  If you are correct, you should see a bar chart of the proportion of individuals in each status."
   ]
  },
  {
   "cell_type": "code",
   "execution_count": 10,
   "metadata": {},
   "outputs": [
    {
     "data": {
      "image/png": "[encoded data removed]",
      "text/plain": [
       "<Figure size 432x288 with 1 Axes>"
      ]
     },
     "metadata": {
      "needs_background": "light"
     },
     "output_type": "display_data"
    }
   ],
   "source": [
    "ed_vals = df.groupby(by='FormalEducation').size()#Provide a pandas series of the counts for each FormalEducation status\n",
    "\n",
    "# The below should be a bar chart of the proportion of individuals in your ed_vals\n",
    "# if it is set up correctly.\n",
    "\n",
    "(ed_vals/df.shape[0]).plot(kind=\"bar\");\n",
    "plt.title(\"Formal Education\");"
   ]
  },
  {
   "cell_type": "markdown",
   "metadata": {},
   "source": [
    "### Question 6\n",
    "\n",
    "**6.** Provide a pandas series of the different **Country** values in the dataset along with the count of how many individuals are from each country.  Store this pandas series in **count_vals**.  If you are correct, you should see a bar chart of the proportion of individuals in each country."
   ]
  },
  {
   "cell_type": "code",
   "execution_count": 14,
   "metadata": {},
   "outputs": [
    {
     "data": {
      "text/plain": [
       "Country\n",
       "Afghanistan                 13\n",
       "Aland Islands                7\n",
       "Albania                     30\n",
       "Algeria                     16\n",
       "American Samoa               1\n",
       "                            ..\n",
       "Virgin Islands (British)     1\n",
       "Virgin Islands (USA)         1\n",
       "Zaire                        1\n",
       "Zambia                       2\n",
       "Zimbabwe                     4\n",
       "Length: 165, dtype: int64"
      ]
     },
     "execution_count": 14,
     "metadata": {},
     "output_type": "execute_result"
    }
   ],
   "source": [
    "df.groupby(by='Country').size()"
   ]
  },
  {
   "cell_type": "code",
   "execution_count": 11,
   "metadata": {},
   "outputs": [
    {
     "data": {
      "image/png": "[encoded data removed]",
      "text/plain": [
       "<Figure size 432x288 with 1 Axes>"
      ]
     },
     "metadata": {
      "needs_background": "light"
     },
     "output_type": "display_data"
    }
   ],
   "source": [
    "count_vals = df.groupby(by='Country').size()#Provide a pandas series of the counts for each Country\n",
    "\n",
    "# The below should be a bar chart of the proportion of the top 10 countries for the\n",
    "# individuals in your count_vals if it is set up correctly.\n",
    "\n",
    "(count_vals[:10]/df.shape[0]).plot(kind=\"bar\");\n",
    "plt.title(\"Country\");"
   ]
  },
  {
   "cell_type": "markdown",
   "metadata": {},
   "source": [
    "Feel free to explore the dataset further to gain additional familiarity with the columns and rows in the dataset.  You will be working pretty closely with this dataset throughout this lesson."
   ]
  },
  {
   "cell_type": "code",
   "execution_count": null,
   "metadata": {},
   "outputs": [],
   "source": []
  },
  {
   "cell_type": "code",
   "execution_count": null,
   "metadata": {},
   "outputs": [],
   "source": []
  }
 ],
 "metadata": {
  "kernelspec": {
   "display_name": "Python 3",
   "language": "python",
   "name": "python3"
  },
  "language_info": {
   "codemirror_mode": {
    "name": "ipython",
    "version": 3
   },
   "file_extension": ".py",
   "mimetype": "text/x-python",
   "name": "python",
   "nbconvert_exporter": "python",
   "pygments_lexer": "ipython3",
   "version": "3.8.8"
  }
 },
 "nbformat": 4,
 "nbformat_minor": 4
}
